{
 "cells": [
  {
   "cell_type": "markdown",
   "id": "15df0914-da59-4417-b360-59ee105fa68c",
   "metadata": {},
   "source": [
    "<h1>Data Science Tools and Ecosystem</h1>"
   ]
  },
  {
   "cell_type": "markdown",
   "id": "2f164416-8ab6-4a4f-9ba8-8946a72c579e",
   "metadata": {},
   "source": [
    "In this notebook, Data Science Tools and Ecosystem are summarized."
   ]
  },
  {
   "cell_type": "markdown",
   "id": "53bfda63-300f-49fe-8341-7fad5593652c",
   "metadata": {},
   "source": [
    "**Objectives:**\n",
    "- List popular languages for Data Science\n",
    "- List popular libraries used by Data Scientists \n",
    "- List popular development environment tools (open source)\n",
    "- Create a markdown cell introducing arithmetic expression examples"
   ]
  },
  {
   "cell_type": "markdown",
   "id": "af6be719-b9a1-47e4-96c0-1eab34f103b8",
   "metadata": {},
   "source": [
    "Some of the popular languages that Data Scientists use are: <br>\n",
    "<ol>\n",
    "<li> Python</li>\n",
    "<li> SQL </li>\n",
    "<li> R </li>\n",
    "</ol>"
   ]
  },
  {
   "cell_type": "markdown",
   "id": "44c0a065-38fd-4f8b-a5eb-cfc22fb8e9f7",
   "metadata": {},
   "source": [
    "Some of the commonly used libraries used by Data Scientists include:\n",
    "<ol>\n",
    "<li> NumPy </li>\n",
    "<li> Pandas  </li>\n",
    "<li> SciPy  </li>\n",
    "</ol>"
   ]
  },
  {
   "cell_type": "markdown",
   "id": "79db0004-047f-4042-9af3-3fc43e2d9d08",
   "metadata": {},
   "source": [
    "|Data Science Tools|\n",
    "|------------------|\n",
    "|Jupyter Notebooks |\n",
    "|R Studio’s |\n",
    "|Gitlab|"
   ]
  },
  {
   "cell_type": "markdown",
   "id": "b2e1b442-df40-4cfc-b970-ae8e38206c43",
   "metadata": {},
   "source": [
    "<h3> Below are a few examples of evaluating arithmetic expressions in Python</h3>"
   ]
  },
  {
   "cell_type": "code",
   "execution_count": 22,
   "id": "1f78f293-7757-4320-bf4c-54c0bcf0df59",
   "metadata": {},
   "outputs": [
    {
     "data": {
      "text/plain": [
       "17"
      ]
     },
     "execution_count": 22,
     "metadata": {},
     "output_type": "execute_result"
    }
   ],
   "source": [
    "#This a simple arithmetic expression to mutiply then add integers\n",
    "(3*4)+5"
   ]
  },
  {
   "cell_type": "code",
   "execution_count": 28,
   "id": "7b02b576-32e8-4cd7-a65d-16832471a2e4",
   "metadata": {},
   "outputs": [
    {
     "name": "stdout",
     "output_type": "stream",
     "text": [
      "Hours= 20\n"
     ]
    }
   ],
   "source": [
    "#This will convert 200 minutes to hours by diving by 60\n",
    "Minutes = 200\n",
    "hours =  Minutes % 60\n",
    "print(\"Hours=\", hours)"
   ]
  },
  {
   "cell_type": "markdown",
   "id": "707b4d5f-4447-403c-a722-fbe563faa68c",
   "metadata": {},
   "source": [
    "<h2> Author </h2> </br>\n",
    "Naama Cohen"
   ]
  }
 ],
 "metadata": {
  "kernelspec": {
   "display_name": "Python 3 (ipykernel)",
   "language": "python",
   "name": "python3"
  },
  "language_info": {
   "codemirror_mode": {
    "name": "ipython",
    "version": 3
   },
   "file_extension": ".py",
   "mimetype": "text/x-python",
   "name": "python",
   "nbconvert_exporter": "python",
   "pygments_lexer": "ipython3",
   "version": "3.12.7"
  }
 },
 "nbformat": 4,
 "nbformat_minor": 5
}
